{
 "cells": [
  {
   "cell_type": "code",
   "execution_count": 224,
   "metadata": {
    "collapsed": false
   },
   "outputs": [],
   "source": [
    "%matplotlib inline\n",
    "\n",
    "import matplotlib.pyplot as plt\n",
    "from mpl_toolkits.mplot3d import Axes3D\n",
    "\n",
    "import plotly.plotly as py\n",
    "from plotly.graph_objs import *\n",
    "import plotly.tools as tls\n",
    "py.sign_in('glemaitre', 'se04g0bmi2')\n",
    "\n",
    "import mpld3\n",
    "\n",
    "import numpy as np\n",
    "\n",
    "from scipy.stats import norm,rayleigh,rice\n",
    "from scipy.optimize import curve_fit"
   ]
  },
  {
   "cell_type": "markdown",
   "metadata": {},
   "source": [
    "## Load the data"
   ]
  },
  {
   "cell_type": "markdown",
   "metadata": {},
   "source": [
    "Impor the mat containing the gray levels information"
   ]
  },
  {
   "cell_type": "code",
   "execution_count": 225,
   "metadata": {
    "collapsed": false
   },
   "outputs": [],
   "source": [
    "from scipy.io import loadmat\n",
    "\n",
    "matfiles = loadmat('../data/mat/all_voxels.mat');\n",
    "\n",
    "data = np.asmatrix(matfiles['data'])\n",
    "data = data.astype(float)\n",
    "label = np.ravel(matfiles['label'])\n",
    "patient_sizes = np.ravel(matfiles['patient_sizes'])"
   ]
  },
  {
   "cell_type": "markdown",
   "metadata": {},
   "source": [
    "Load only the dce dataset"
   ]
  },
  {
   "cell_type": "code",
   "execution_count": 226,
   "metadata": {
    "collapsed": false
   },
   "outputs": [],
   "source": [
    "data_dce = np.asmatrix(data[:, 3:-1])"
   ]
  },
  {
   "cell_type": "markdown",
   "metadata": {},
   "source": [
    "Create a class Patient to facilitate data management.\n",
    "\n",
    "The data are the DCE and this sequence is composed of multiple series. Thus, there is a need to compute information for each serie composing the DCE:\n",
    "\n",
    "* the minimum intensity of the serie,\n",
    "* the maximum intensity of the serie,\n",
    "* the pdf of the serie,\n",
    "* the mean of the serie,\n",
    "* the std of the serie,\n",
    "* the parameters of a Gaussian fitting on the distribution."
   ]
  },
  {
   "cell_type": "code",
   "execution_count": 227,
   "metadata": {
    "collapsed": false
   },
   "outputs": [],
   "source": [
    "class Patient(object):\n",
    "    def __init__(self, data):\n",
    "        self.data = data.copy()\n",
    "        # Allocation of the minimum and maximum array for the series\n",
    "        self.max_int_serie = []\n",
    "        self.min_int_serie = []\n",
    "        # Allocate the pdf and the bin_edges\n",
    "        self.pdf_serie = []\n",
    "        self.bin_edges_serie = []\n",
    "        # Allocate the mean and std of the data\n",
    "        self.mean_data_serie = []\n",
    "        self.median_data_serie = []\n",
    "        self.std_data_serie = []\n",
    "        self.gaussian_params_serie = []\n",
    "        for serie in range(data.shape[1]):\n",
    "            # Find the minimum and maximum for the given serie\n",
    "            self.max_int_serie.append(np.max(self.data[:, serie]))\n",
    "            self.min_int_serie.append(np.min(self.data[:, serie]))\n",
    "            # Compute the histogram\n",
    "            pdf, bin_edges = np.histogram(self.data[:, serie],\n",
    "                                                    bins = (self.max_int_serie[-1] - self.min_int_serie[-1]),\n",
    "                                                    density=True)\n",
    "            # Append the histogram\n",
    "            self.pdf_serie.append(pdf)\n",
    "            self.bin_edges_serie.append(bin_edges)\n",
    "        \n",
    "            self.mean_data_serie.append(np.mean(self.data[:, serie]))\n",
    "            self.std_data_serie.append(np.std(self.data[:, serie]))\n",
    "            \n",
    "            self.median_data_serie.append(np.ravel(np.median(self.data[:, serie], axis=0)))\n",
    "        \n",
    "            # Fit a gaussian distribution to get mean and std\n",
    "            self.gaussian_params_serie.append(norm.fit(self.data[:, serie]))"
   ]
  },
  {
   "cell_type": "code",
   "execution_count": 228,
   "metadata": {
    "collapsed": false
   },
   "outputs": [],
   "source": [
    "#Build an histogram for each patient\n",
    "patient_list = [];\n",
    "for pt in range(np.size(patient_sizes)):\n",
    "\n",
    "    if (pt == 0):\n",
    "        start_idx = 0\n",
    "        end_idx = patient_sizes[pt] - 1\n",
    "    else:\n",
    "        start_idx = np.sum(patient_sizes[0 : pt])\n",
    "        end_idx = np.sum(patient_sizes[0 : pt + 1]) - 1\n",
    "        \n",
    "    # Create the patient data\n",
    "    patient_list.append(Patient(data_dce[start_idx : end_idx]))"
   ]
  },
  {
   "cell_type": "markdown",
   "metadata": {},
   "source": [
    "## By patient analysis"
   ]
  },
  {
   "cell_type": "markdown",
   "metadata": {},
   "source": [
    "We can make a by patient analysis in order to perform the normalisation. We will first start with some visualisation."
   ]
  },
  {
   "cell_type": "code",
   "execution_count": 234,
   "metadata": {
    "collapsed": false
   },
   "outputs": [
    {
     "data": {
      "text/html": [
       "<iframe id=\"igraph\" scrolling=\"no\" style=\"border:none;\"seamless=\"seamless\" src=\"https://plot.ly/~glemaitre/80.embed\" height=\"525px\" width=\"100%\"></iframe>"
      ],
      "text/plain": [
       "<plotly.tools.PlotlyDisplay object>"
      ]
     },
     "execution_count": 234,
     "metadata": {},
     "output_type": "execute_result"
    }
   ],
   "source": [
    "# Define the index of the patient to visualise\n",
    "pat_vis = 0\n",
    "\n",
    "pat_heatmap = []\n",
    "#for pat_vis in range(len(patient_list)):\n",
    "\n",
    "# Allocate the heatmap\n",
    "### Find the maximum and minimum from all series\n",
    "pt_min_intensity = min(patient_list[pat_vis].min_int_serie)\n",
    "pt_max_intensity = max(patient_list[pat_vis].max_int_serie)\n",
    "### Allocate the heat map with the right indexing\n",
    "heatmap_z_raw = np.zeros((len(patient_list[pat_vis].pdf_serie),\n",
    "                                      int(pt_max_intensity)));\n",
    "\n",
    "heatmap_y = []\n",
    "for s in range(len(patient_list[pat_vis].pdf_serie)):\n",
    "    str_pt = 'Serie ' + str(s) + ' '\n",
    "    heatmap_y.append(str_pt)\n",
    "    heatmap_z_raw[s, range(int(patient_list[pat_vis].min_int_serie[s]),\n",
    "                           int(patient_list[pat_vis].max_int_serie[s]))] = patient_list[pat_vis].pdf_serie[s]\n",
    "        \n",
    "plot_data = Data([Heatmap(z=heatmap_z_raw, y=heatmap_y, colorscale='Jet')])\n",
    "#layout = Layout(margin=Margin(l=0, r=0, b=0, t=0))\n",
    "#plot_data = Data(pat_heatmap)\n",
    "# Define a figure\n",
    "fig = Figure(data=plot_data)\n",
    "py.iplot(fig, filename='heatmap-dce')"
   ]
  },
  {
   "cell_type": "code",
   "execution_count": 236,
   "metadata": {
    "collapsed": false
   },
   "outputs": [],
   "source": [
    "serie_pdf = []\n",
    "for ind, serie in enumerate(patient_list[pat_vis].pdf_serie):\n",
    "    serie_pdf.append(np.squeeze(np.asarray(heatmap_z_raw[ind,:])))"
   ]
  },
  {
   "cell_type": "markdown",
   "metadata": {},
   "source": [
    "### Correction using only the mean and std"
   ]
  },
  {
   "cell_type": "code",
   "execution_count": 237,
   "metadata": {
    "collapsed": false
   },
   "outputs": [],
   "source": [
    "for s in range(len(patient_list[pat_vis].pdf_serie)):\n",
    "    # Create the normalized data\n",
    "    patient_list[pat_vis].data[:, s] = np.round(patient_list[pat_vis].data[:, s] - (patient_list[pat_vis].median_data_serie[s]))\n",
    "    # Recompute the pdf\n",
    "    # Find the minimum and maximum for the given serie\n",
    "    patient_list[pat_vis].max_int_serie[s] = np.max(patient_list[pat_vis].data[:, s])\n",
    "    patient_list[pat_vis].min_int_serie[s] = np.min(patient_list[pat_vis].data[:, s])\n",
    "    # Compute the histogram\n",
    "    pdf, bin_edges = np.histogram(patient_list[pat_vis].data[:, s],\n",
    "                                  bins = int(np.round((patient_list[pat_vis].max_int_serie[s] - patient_list[pat_vis].min_int_serie[s]))), \n",
    "                                  density=True)\n",
    "    # Append the histogram\n",
    "    patient_list[pat_vis].pdf_serie[s] = pdf\n",
    "    patient_list[pat_vis].bin_edges_serie[s] = bin_edges"
   ]
  },
  {
   "cell_type": "markdown",
   "metadata": {},
   "source": [
    "We can show the data with median shifted"
   ]
  },
  {
   "cell_type": "code",
   "execution_count": 238,
   "metadata": {
    "collapsed": false
   },
   "outputs": [
    {
     "data": {
      "text/html": [
       "<iframe id=\"igraph\" scrolling=\"no\" style=\"border:none;\"seamless=\"seamless\" src=\"https://plot.ly/~glemaitre/80.embed\" height=\"525px\" width=\"100%\"></iframe>"
      ],
      "text/plain": [
       "<plotly.tools.PlotlyDisplay object>"
      ]
     },
     "execution_count": 238,
     "metadata": {},
     "output_type": "execute_result"
    }
   ],
   "source": [
    "pat_heatmap = []\n",
    "#for pat_vis in range(len(patient_list)):\n",
    "\n",
    "# Allocate the heatmap\n",
    "### Find the maximum and minimum from all series\n",
    "pt_min_intensity = np.abs(min(patient_list[pat_vis].min_int_serie))\n",
    "pt_max_intensity = np.abs(min(patient_list[pat_vis].min_int_serie)) + max(patient_list[pat_vis].max_int_serie)\n",
    "### Allocate the heat map with the right indexing\n",
    "heatmap_z_raw = np.zeros((len(patient_list[pat_vis].pdf_serie), int(pt_max_intensity)))\n",
    "\n",
    "heatmap_y = []\n",
    "for s in range(len(patient_list[pat_vis].pdf_serie)):\n",
    "    str_pt = 'Serie ' + str(s) + ' '\n",
    "    heatmap_y.append(str_pt)\n",
    "    \n",
    "    arr_sz = int(np.abs(patient_list[pat_vis].min_int_serie[s]) + patient_list[pat_vis].max_int_serie[s])\n",
    "    offset = pt_min_intensity - np.abs(patient_list[pat_vis].min_int_serie[s])\n",
    "    r = range(int(offset), arr_sz+int(offset))\n",
    "        \n",
    "    heatmap_z_raw[s, r] = patient_list[pat_vis].pdf_serie[s]\n",
    "        \n",
    "plot_data = Data([Heatmap(z=heatmap_z_raw, y=heatmap_y, colorscale='Jet')])\n",
    "#layout = Layout(margin=Margin(l=0, r=0, b=0, t=0))\n",
    "#plot_data = Data(pat_heatmap)\n",
    "# Define a figure\n",
    "fig = Figure(data=plot_data)\n",
    "py.iplot(fig, filename='heatmap-dce')"
   ]
  },
  {
   "cell_type": "markdown",
   "metadata": {},
   "source": [
    "We can plot the variation of the std over time"
   ]
  },
  {
   "cell_type": "code",
   "execution_count": 239,
   "metadata": {
    "collapsed": false
   },
   "outputs": [
    {
     "data": {
      "image/png": "[encoded data removed]",
      "text/plain": [
       "<matplotlib.figure.Figure at 0x7fb5a4beb1d0>"
      ]
     },
     "metadata": {},
     "output_type": "display_data"
    }
   ],
   "source": [
    "plt.figure()\n",
    "plt.plot(patient_list[pat_vis].std_data_serie, 'o-')\n",
    "plt.xlabel('Serie')\n",
    "plt.ylabel('Standard deviation variations')\n",
    "plt.show()"
   ]
  },
  {
   "cell_type": "markdown",
   "metadata": {},
   "source": [
    "# Not useful for the moment"
   ]
  },
  {
   "cell_type": "markdown",
   "metadata": {},
   "source": [
    "For a single patient we will start to fit a rician distrubution for each dce serie."
   ]
  },
  {
   "cell_type": "markdown",
   "metadata": {},
   "source": [
    "#### Define the function to fit"
   ]
  },
  {
   "cell_type": "code",
   "execution_count": 69,
   "metadata": {
    "collapsed": false
   },
   "outputs": [],
   "source": [
    "from collections import namedtuple\n",
    "\n",
    "# For the Rician\n",
    "def myRice(x, factor, v, shift, std):\n",
    "    return rice.pdf(x, v, shift, std) / factor\n",
    "\n",
    "# Define the parameters for the Rician\n",
    "riceParameters = namedtuple('riceParameters',\n",
    "                            ['factor', 'v', 'shift', 'std'])\n",
    "\n",
    "# For the Gaussian\n",
    "def myGaussian(x, factor, mean, std):\n",
    "    return norm.pdf(x, mean, std) / factor\n",
    "\n",
    "# Define the parameters for the Gaussian\n",
    "gaussianParameters = namedtuple('gaussianParameters',\n",
    "                                ['factor', 'mean', 'std'])"
   ]
  },
  {
   "cell_type": "markdown",
   "metadata": {},
   "source": [
    "#### Fit the distribution of one patient"
   ]
  },
  {
   "cell_type": "code",
   "execution_count": 70,
   "metadata": {
    "collapsed": false
   },
   "outputs": [],
   "source": [
    "db_max_intensity = max(patient_list[pat_vis].max_int_serie)\n",
    "db_min_intensity = min(patient_list[pat_vis].min_int_serie)\n",
    "\n",
    "# Get the initial guess for the rician distribution\n",
    "def get_rice_initial_parameters(patient, pdf, serie):\n",
    "    \n",
    "    # Get the mean from the patient information\n",
    "    v = patient.mean_data_serie[serie] / db_max_intensity\n",
    "    std = patient.std_data_serie[serie] / db_max_intensity\n",
    "    factor = db_max_intensity\n",
    "    \n",
    "    # Compute the cumulative sum of the pdf\n",
    "    cdf = np.cumsum(pdf)\n",
    "    loc = float(np.argmax(cdf > .01)) / db_max_intensity\n",
    "    #loc = np.argmax(cdf > .01)/db_max_intensity\n",
    "    \n",
    "    return riceParameters(factor, v, loc, std)\n",
    "\n",
    "# For each serie get the initial parameter\n",
    "rice_init = [get_rice_initial_parameters(patient_list[pat_vis], pdf, s) for s, pdf in enumerate(serie_pdf)]\n",
    "rice_fitted_param = []\n",
    "rice_fiting_error = []\n",
    "for s in range(len(patient_list[pat_vis].pdf_serie)):\n",
    "    popt, pcov = curve_fit(myRice,\n",
    "                           np.linspace(0, 1., len(np.squeeze(np.asarray(heatmap_z_raw[s, :])))),\n",
    "                           np.squeeze(np.asarray(heatmap_z_raw[s, :])),\n",
    "                           p0=(rice_init[s].factor, rice_init[s].v,\n",
    "                               rice_init[s].shift, rice_init[s].std),\n",
    "                           maxfev=10000)\n",
    "    rice_fitted_param.append(riceParameters(popt[0], popt[1], popt[2], popt[3],))\n",
    "    rice_fiting_error.append(pcov)\n",
    "    \n",
    "# Get the initial guess for the rician distribution\n",
    "def get_gaussian_initial_parameters(patient, pdf, serie):\n",
    "    \n",
    "    # Get the mean from the patient information\n",
    "    mean = patient.mean_data_serie[serie] / db_max_intensity\n",
    "    std = patient.std_data_serie[serie] / db_max_intensity\n",
    "    factor = db_max_intensity\n",
    "        \n",
    "    return gaussianParameters(factor, mean, std)\n",
    "\n",
    "# For each serie get the initial parameter\n",
    "gaussian_init = [get_gaussian_initial_parameters(patient_list[pat_vis], pdf, s) for s, pdf in enumerate(serie_pdf)]\n",
    "gaussian_fitted_param = []\n",
    "gaussian_fiting_error = []\n",
    "for s in range(len(patient_list[pat_vis].pdf_serie)):\n",
    "    popt, pcov = curve_fit(myGaussian,\n",
    "                           np.linspace(0, 1., len(np.squeeze(np.asarray(heatmap_z_raw[s, :])))),\n",
    "                           np.squeeze(np.asarray(heatmap_z_raw[s, :])),\n",
    "                           p0=(gaussian_init[s].factor, gaussian_init[s].mean, gaussian_init[s].std),\n",
    "                           maxfev=10000)\n",
    "    gaussian_fitted_param.append(gaussianParameters(popt[0], popt[1], popt[2],))\n",
    "    gaussian_fiting_error.append(pcov)"
   ]
  },
  {
   "cell_type": "code",
   "execution_count": 71,
   "metadata": {
    "collapsed": false
   },
   "outputs": [
    {
     "ename": "ValueError",
     "evalue": "x and y must have same first dimension",
     "output_type": "error",
     "traceback": [
      "\u001b[1;31m---------------------------------------------------------------------------\u001b[0m",
      "\u001b[1;31mValueError\u001b[0m                                Traceback (most recent call last)",
      "\u001b[1;32m<ipython-input-71-918093374826>\u001b[0m in \u001b[0;36m<module>\u001b[1;34m()\u001b[0m\n\u001b[0;32m     13\u001b[0m     \u001b[0mplt\u001b[0m\u001b[1;33m.\u001b[0m\u001b[0mfigure\u001b[0m\u001b[1;33m(\u001b[0m\u001b[1;33m)\u001b[0m\u001b[1;33m\u001b[0m\u001b[0m\n\u001b[0;32m     14\u001b[0m     \u001b[0mx\u001b[0m \u001b[1;33m=\u001b[0m \u001b[0mnp\u001b[0m\u001b[1;33m.\u001b[0m\u001b[0mlinspace\u001b[0m\u001b[1;33m(\u001b[0m\u001b[1;36m0\u001b[0m\u001b[1;33m,\u001b[0m \u001b[1;36m1.\u001b[0m\u001b[1;33m,\u001b[0m \u001b[0mint\u001b[0m\u001b[1;33m(\u001b[0m\u001b[0mdb_max_intensity\u001b[0m\u001b[1;33m)\u001b[0m\u001b[1;33m)\u001b[0m\u001b[1;33m\u001b[0m\u001b[0m\n\u001b[1;32m---> 15\u001b[1;33m     \u001b[0mplt\u001b[0m\u001b[1;33m.\u001b[0m\u001b[0mplot\u001b[0m\u001b[1;33m(\u001b[0m\u001b[0mx\u001b[0m\u001b[1;33m,\u001b[0m \u001b[0mnp\u001b[0m\u001b[1;33m.\u001b[0m\u001b[0msqueeze\u001b[0m\u001b[1;33m(\u001b[0m\u001b[0mnp\u001b[0m\u001b[1;33m.\u001b[0m\u001b[0masarray\u001b[0m\u001b[1;33m(\u001b[0m\u001b[0mheatmap_z_raw\u001b[0m\u001b[1;33m[\u001b[0m\u001b[0ms\u001b[0m\u001b[1;33m,\u001b[0m \u001b[1;33m:\u001b[0m\u001b[1;33m]\u001b[0m\u001b[1;33m)\u001b[0m\u001b[1;33m)\u001b[0m\u001b[1;33m,\u001b[0m \u001b[0mlabel\u001b[0m\u001b[1;33m=\u001b[0m\u001b[1;34m'data'\u001b[0m\u001b[1;33m)\u001b[0m\u001b[1;33m\u001b[0m\u001b[0m\n\u001b[0m\u001b[0;32m     16\u001b[0m \u001b[1;33m\u001b[0m\u001b[0m\n\u001b[0;32m     17\u001b[0m     plt.plot(x, myRice(x,\n",
      "\u001b[1;32m/home/lemaitre/anaconda/lib/python2.7/site-packages/matplotlib/pyplot.pyc\u001b[0m in \u001b[0;36mplot\u001b[1;34m(*args, **kwargs)\u001b[0m\n\u001b[0;32m   3097\u001b[0m         \u001b[0max\u001b[0m\u001b[1;33m.\u001b[0m\u001b[0mhold\u001b[0m\u001b[1;33m(\u001b[0m\u001b[0mhold\u001b[0m\u001b[1;33m)\u001b[0m\u001b[1;33m\u001b[0m\u001b[0m\n\u001b[0;32m   3098\u001b[0m     \u001b[1;32mtry\u001b[0m\u001b[1;33m:\u001b[0m\u001b[1;33m\u001b[0m\u001b[0m\n\u001b[1;32m-> 3099\u001b[1;33m         \u001b[0mret\u001b[0m \u001b[1;33m=\u001b[0m \u001b[0max\u001b[0m\u001b[1;33m.\u001b[0m\u001b[0mplot\u001b[0m\u001b[1;33m(\u001b[0m\u001b[1;33m*\u001b[0m\u001b[0margs\u001b[0m\u001b[1;33m,\u001b[0m \u001b[1;33m**\u001b[0m\u001b[0mkwargs\u001b[0m\u001b[1;33m)\u001b[0m\u001b[1;33m\u001b[0m\u001b[0m\n\u001b[0m\u001b[0;32m   3100\u001b[0m         \u001b[0mdraw_if_interactive\u001b[0m\u001b[1;33m(\u001b[0m\u001b[1;33m)\u001b[0m\u001b[1;33m\u001b[0m\u001b[0m\n\u001b[0;32m   3101\u001b[0m     \u001b[1;32mfinally\u001b[0m\u001b[1;33m:\u001b[0m\u001b[1;33m\u001b[0m\u001b[0m\n",
      "\u001b[1;32m/home/lemaitre/anaconda/lib/python2.7/site-packages/matplotlib/axes/_axes.pyc\u001b[0m in \u001b[0;36mplot\u001b[1;34m(self, *args, **kwargs)\u001b[0m\n\u001b[0;32m   1371\u001b[0m         \u001b[0mlines\u001b[0m \u001b[1;33m=\u001b[0m \u001b[1;33m[\u001b[0m\u001b[1;33m]\u001b[0m\u001b[1;33m\u001b[0m\u001b[0m\n\u001b[0;32m   1372\u001b[0m \u001b[1;33m\u001b[0m\u001b[0m\n\u001b[1;32m-> 1373\u001b[1;33m         \u001b[1;32mfor\u001b[0m \u001b[0mline\u001b[0m \u001b[1;32min\u001b[0m \u001b[0mself\u001b[0m\u001b[1;33m.\u001b[0m\u001b[0m_get_lines\u001b[0m\u001b[1;33m(\u001b[0m\u001b[1;33m*\u001b[0m\u001b[0margs\u001b[0m\u001b[1;33m,\u001b[0m \u001b[1;33m**\u001b[0m\u001b[0mkwargs\u001b[0m\u001b[1;33m)\u001b[0m\u001b[1;33m:\u001b[0m\u001b[1;33m\u001b[0m\u001b[0m\n\u001b[0m\u001b[0;32m   1374\u001b[0m             \u001b[0mself\u001b[0m\u001b[1;33m.\u001b[0m\u001b[0madd_line\u001b[0m\u001b[1;33m(\u001b[0m\u001b[0mline\u001b[0m\u001b[1;33m)\u001b[0m\u001b[1;33m\u001b[0m\u001b[0m\n\u001b[0;32m   1375\u001b[0m             \u001b[0mlines\u001b[0m\u001b[1;33m.\u001b[0m\u001b[0mappend\u001b[0m\u001b[1;33m(\u001b[0m\u001b[0mline\u001b[0m\u001b[1;33m)\u001b[0m\u001b[1;33m\u001b[0m\u001b[0m\n",
      "\u001b[1;32m/home/lemaitre/anaconda/lib/python2.7/site-packages/matplotlib/axes/_base.pyc\u001b[0m in \u001b[0;36m_grab_next_args\u001b[1;34m(self, *args, **kwargs)\u001b[0m\n\u001b[0;32m    302\u001b[0m                 \u001b[1;32mreturn\u001b[0m\u001b[1;33m\u001b[0m\u001b[0m\n\u001b[0;32m    303\u001b[0m             \u001b[1;32mif\u001b[0m \u001b[0mlen\u001b[0m\u001b[1;33m(\u001b[0m\u001b[0mremaining\u001b[0m\u001b[1;33m)\u001b[0m \u001b[1;33m<=\u001b[0m \u001b[1;36m3\u001b[0m\u001b[1;33m:\u001b[0m\u001b[1;33m\u001b[0m\u001b[0m\n\u001b[1;32m--> 304\u001b[1;33m                 \u001b[1;32mfor\u001b[0m \u001b[0mseg\u001b[0m \u001b[1;32min\u001b[0m \u001b[0mself\u001b[0m\u001b[1;33m.\u001b[0m\u001b[0m_plot_args\u001b[0m\u001b[1;33m(\u001b[0m\u001b[0mremaining\u001b[0m\u001b[1;33m,\u001b[0m \u001b[0mkwargs\u001b[0m\u001b[1;33m)\u001b[0m\u001b[1;33m:\u001b[0m\u001b[1;33m\u001b[0m\u001b[0m\n\u001b[0m\u001b[0;32m    305\u001b[0m                     \u001b[1;32myield\u001b[0m \u001b[0mseg\u001b[0m\u001b[1;33m\u001b[0m\u001b[0m\n\u001b[0;32m    306\u001b[0m                 \u001b[1;32mreturn\u001b[0m\u001b[1;33m\u001b[0m\u001b[0m\n",
      "\u001b[1;32m/home/lemaitre/anaconda/lib/python2.7/site-packages/matplotlib/axes/_base.pyc\u001b[0m in \u001b[0;36m_plot_args\u001b[1;34m(self, tup, kwargs)\u001b[0m\n\u001b[0;32m    280\u001b[0m             \u001b[0mx\u001b[0m \u001b[1;33m=\u001b[0m \u001b[0mnp\u001b[0m\u001b[1;33m.\u001b[0m\u001b[0marange\u001b[0m\u001b[1;33m(\u001b[0m\u001b[0my\u001b[0m\u001b[1;33m.\u001b[0m\u001b[0mshape\u001b[0m\u001b[1;33m[\u001b[0m\u001b[1;36m0\u001b[0m\u001b[1;33m]\u001b[0m\u001b[1;33m,\u001b[0m \u001b[0mdtype\u001b[0m\u001b[1;33m=\u001b[0m\u001b[0mfloat\u001b[0m\u001b[1;33m)\u001b[0m\u001b[1;33m\u001b[0m\u001b[0m\n\u001b[0;32m    281\u001b[0m \u001b[1;33m\u001b[0m\u001b[0m\n\u001b[1;32m--> 282\u001b[1;33m         \u001b[0mx\u001b[0m\u001b[1;33m,\u001b[0m \u001b[0my\u001b[0m \u001b[1;33m=\u001b[0m \u001b[0mself\u001b[0m\u001b[1;33m.\u001b[0m\u001b[0m_xy_from_xy\u001b[0m\u001b[1;33m(\u001b[0m\u001b[0mx\u001b[0m\u001b[1;33m,\u001b[0m \u001b[0my\u001b[0m\u001b[1;33m)\u001b[0m\u001b[1;33m\u001b[0m\u001b[0m\n\u001b[0m\u001b[0;32m    283\u001b[0m \u001b[1;33m\u001b[0m\u001b[0m\n\u001b[0;32m    284\u001b[0m         \u001b[1;32mif\u001b[0m \u001b[0mself\u001b[0m\u001b[1;33m.\u001b[0m\u001b[0mcommand\u001b[0m \u001b[1;33m==\u001b[0m \u001b[1;34m'plot'\u001b[0m\u001b[1;33m:\u001b[0m\u001b[1;33m\u001b[0m\u001b[0m\n",
      "\u001b[1;32m/home/lemaitre/anaconda/lib/python2.7/site-packages/matplotlib/axes/_base.pyc\u001b[0m in \u001b[0;36m_xy_from_xy\u001b[1;34m(self, x, y)\u001b[0m\n\u001b[0;32m    221\u001b[0m         \u001b[0my\u001b[0m \u001b[1;33m=\u001b[0m \u001b[0mnp\u001b[0m\u001b[1;33m.\u001b[0m\u001b[0matleast_1d\u001b[0m\u001b[1;33m(\u001b[0m\u001b[0my\u001b[0m\u001b[1;33m)\u001b[0m\u001b[1;33m\u001b[0m\u001b[0m\n\u001b[0;32m    222\u001b[0m         \u001b[1;32mif\u001b[0m \u001b[0mx\u001b[0m\u001b[1;33m.\u001b[0m\u001b[0mshape\u001b[0m\u001b[1;33m[\u001b[0m\u001b[1;36m0\u001b[0m\u001b[1;33m]\u001b[0m \u001b[1;33m!=\u001b[0m \u001b[0my\u001b[0m\u001b[1;33m.\u001b[0m\u001b[0mshape\u001b[0m\u001b[1;33m[\u001b[0m\u001b[1;36m0\u001b[0m\u001b[1;33m]\u001b[0m\u001b[1;33m:\u001b[0m\u001b[1;33m\u001b[0m\u001b[0m\n\u001b[1;32m--> 223\u001b[1;33m             \u001b[1;32mraise\u001b[0m \u001b[0mValueError\u001b[0m\u001b[1;33m(\u001b[0m\u001b[1;34m\"x and y must have same first dimension\"\u001b[0m\u001b[1;33m)\u001b[0m\u001b[1;33m\u001b[0m\u001b[0m\n\u001b[0m\u001b[0;32m    224\u001b[0m         \u001b[1;32mif\u001b[0m \u001b[0mx\u001b[0m\u001b[1;33m.\u001b[0m\u001b[0mndim\u001b[0m \u001b[1;33m>\u001b[0m \u001b[1;36m2\u001b[0m \u001b[1;32mor\u001b[0m \u001b[0my\u001b[0m\u001b[1;33m.\u001b[0m\u001b[0mndim\u001b[0m \u001b[1;33m>\u001b[0m \u001b[1;36m2\u001b[0m\u001b[1;33m:\u001b[0m\u001b[1;33m\u001b[0m\u001b[0m\n\u001b[0;32m    225\u001b[0m             \u001b[1;32mraise\u001b[0m \u001b[0mValueError\u001b[0m\u001b[1;33m(\u001b[0m\u001b[1;34m\"x and y can be no greater than 2-D\"\u001b[0m\u001b[1;33m)\u001b[0m\u001b[1;33m\u001b[0m\u001b[0m\n",
      "\u001b[1;31mValueError\u001b[0m: x and y must have same first dimension"
     ]
    },
    {
     "data": {
      "image/png": "[encoded data removed]",
      "text/plain": [
       "<matplotlib.figure.Figure at 0x7fb5a4aee550>"
      ]
     },
     "metadata": {},
     "output_type": "display_data"
    }
   ],
   "source": [
    "def output_msg(init, fitted):\n",
    "    output_line = \"{0:24s} ---> {1}:{2}\\n\"\n",
    "    msg = \"\\n    initialization \\t\\t fitted\\n\"\n",
    "    for param_name in riceParameters._fields:\n",
    "        msg = msg+(output_line.format(\n",
    "            param_name+': '+eval('\"{0}\".format(init.'+'{0:s}'.format(param_name)+')'),\n",
    "            param_name,\n",
    "            eval('\"{0}\".format(fitted.'+'{0:s}'.format(param_name)+')')))\n",
    "    return msg\n",
    "\n",
    "for s in range(len(patient_list[pat_vis].pdf_serie)):\n",
    "       \n",
    "    plt.figure()\n",
    "    x = np.linspace(0, 1., int(db_max_intensity))\n",
    "    plt.plot(x, np.squeeze(np.asarray(heatmap_z_raw[s, :])), label='data')\n",
    "    \n",
    "    plt.plot(x, myRice(x,\n",
    "                       rice_fitted_param[s].factor,\n",
    "                       rice_fitted_param[s].v,\n",
    "                       rice_fitted_param[s].shift,\n",
    "                       rice_fitted_param[s].std), label='rician')\n",
    "    plt.plot(x, myGaussian(x,\n",
    "                           gaussian_fitted_param[s].factor,\n",
    "                           gaussian_fitted_param[s].mean,\n",
    "                           gaussian_fitted_param[s].std), label='gaussian')\n",
    "    plt.legend()\n",
    "    plt.show()"
   ]
  },
  {
   "cell_type": "markdown",
   "metadata": {
    "collapsed": false
   },
   "source": [
    "#### Estimation of the mean for each PDF"
   ]
  },
  {
   "cell_type": "code",
   "execution_count": 36,
   "metadata": {
    "collapsed": false
   },
   "outputs": [
    {
     "name": "stdout",
     "output_type": "stream",
     "text": [
      "Mean using Rician estimatation: 0.235249430249\n",
      "Mean using Gaussian estimation: 0.235128514574\n",
      "\n",
      "Mean using Gaussian estimation: 0.233706965109\n",
      "\n",
      "Mean using Rician estimatation: 0.230300582689\n",
      "Mean using Gaussian estimation: 0.229817084552\n",
      "\n",
      "Mean using Rician estimatation: 0.24055771063\n",
      "Mean using Gaussian estimation: 0.240215706699\n",
      "\n",
      "Mean using Gaussian estimation: 0.243843489819\n",
      "\n",
      "Mean using Rician estimatation: 0.29975353096\n",
      "Mean using Gaussian estimation: 0.287317770267\n",
      "\n",
      "Mean using Rician estimatation: 0.421944698528\n",
      "Mean using Gaussian estimation: 0.3993176862\n",
      "\n",
      "Mean using Rician estimatation: 0.488856513759\n",
      "Mean using Gaussian estimation: 0.480699804223\n",
      "\n",
      "Mean using Gaussian estimation: 0.501099064295\n",
      "\n",
      "Mean using Gaussian estimation: 0.514980670858\n",
      "\n",
      "Mean using Gaussian estimation: 0.517933951738\n",
      "\n",
      "Mean using Gaussian estimation: 0.519709620571\n",
      "\n",
      "Mean using Gaussian estimation: 0.531898485628\n",
      "\n",
      "Mean using Gaussian estimation: 0.53999639831\n",
      "\n",
      "Mean using Gaussian estimation: 0.538318208851\n",
      "\n",
      "Mean using Gaussian estimation: 0.543265974564\n",
      "\n",
      "Mean using Gaussian estimation: 0.537856187158\n",
      "\n",
      "Mean using Gaussian estimation: 0.548137191483\n",
      "\n",
      "Mean using Gaussian estimation: 0.541074242246\n",
      "\n",
      "Mean using Gaussian estimation: 0.538448604549\n",
      "\n",
      "Mean using Gaussian estimation: 0.540936284856\n",
      "\n",
      "Mean using Gaussian estimation: 0.535397103775\n",
      "\n",
      "Mean using Gaussian estimation: 0.537087808871\n",
      "\n",
      "Mean using Gaussian estimation: 0.536199722722\n",
      "\n",
      "Mean using Gaussian estimation: 0.540869495637\n",
      "\n",
      "Mean using Gaussian estimation: 0.535392349215\n",
      "\n",
      "Mean using Rician estimatation: 0.530992493001\n",
      "Mean using Gaussian estimation: 0.530990336227\n",
      "\n",
      "Mean using Rician estimatation: 0.536730205713\n",
      "Mean using Gaussian estimation: 0.536206656776\n",
      "\n",
      "Mean using Rician estimatation: 0.530925432778\n",
      "Mean using Gaussian estimation: 0.530037734253\n",
      "\n",
      "Mean using Rician estimatation: 0.528962046966\n",
      "Mean using Gaussian estimation: 0.528102949334\n",
      "\n",
      "Mean using Rician estimatation: 0.527880561206\n",
      "Mean using Gaussian estimation: 0.526848154153\n",
      "\n",
      "Mean using Rician estimatation: 0.529105537477\n",
      "Mean using Gaussian estimation: 0.528809645844\n",
      "\n",
      "Mean using Rician estimatation: 0.526886332479\n",
      "Mean using Gaussian estimation: 0.526085547763\n",
      "\n",
      "Mean using Rician estimatation: 0.536687579005\n",
      "Mean using Gaussian estimation: 0.535828118795\n",
      "\n",
      "Mean using Rician estimatation: 0.523096468883\n",
      "Mean using Gaussian estimation: 0.521969555369\n",
      "\n",
      "Mean using Rician estimatation: 0.530141464656\n",
      "Mean using Gaussian estimation: 0.529072746789\n",
      "\n",
      "Mean using Rician estimatation: 0.52446936231\n",
      "Mean using Gaussian estimation: 0.523210284007\n",
      "\n",
      "Mean using Rician estimatation: 0.519311697085\n",
      "Mean using Gaussian estimation: 0.518006183852\n",
      "\n",
      "Mean using Rician estimatation: 0.52706787814\n",
      "Mean using Gaussian estimation: 0.525880992895\n",
      "\n",
      "Mean using Rician estimatation: 0.515668405515\n",
      "Mean using Gaussian estimation: 0.51407342838\n",
      "\n"
     ]
    }
   ],
   "source": [
    "for s in range(len(patient_list[pat_vis].pdf_serie)):\n",
    "    if np.isnan(rice.mean(rice_fitted_param[s].v,\n",
    "                       rice_fitted_param[s].shift,\n",
    "                       rice_fitted_param[s].std)):\n",
    "        print 'Mean using Gaussian estimation: {}'.format(norm.mean(gaussian_fitted_param[s].mean,\n",
    "                                                                    gaussian_fitted_param[s].std))\n",
    "    else:\n",
    "        print 'Mean using Rician estimatation: {}'.format(rice.mean(rice_fitted_param[s].v,\n",
    "                                                                    rice_fitted_param[s].shift,\n",
    "                                                                    rice_fitted_param[s].std))\n",
    "        print 'Mean using Gaussian estimation: {}'.format(norm.mean(gaussian_fitted_param[s].mean,\n",
    "                                                                    gaussian_fitted_param[s].std))\n",
    "    print ''"
   ]
  },
  {
   "cell_type": "markdown",
   "metadata": {},
   "source": [
    "#### Correct the mean offset"
   ]
  },
  {
   "cell_type": "code",
   "execution_count": 51,
   "metadata": {
    "collapsed": false
   },
   "outputs": [],
   "source": [
    "for s in range(len(patient_list[pat_vis].pdf_serie)):\n",
    "    # Estimate the mean as previously presented\n",
    "    if np.isnan(rice.mean(rice_fitted_param[s].v,\n",
    "                       rice_fitted_param[s].shift,\n",
    "                       rice_fitted_param[s].std)):\n",
    "        mean_corr = norm.mean(gaussian_fitted_param[s].mean,\n",
    "                      gaussian_fitted_param[s].std)\n",
    "    else:\n",
    "        mean_corr = rice.mean(rice_fitted_param[s].v,\n",
    "                              rice_fitted_param[s].shift,\n",
    "                              rice_fitted_param[s].std)\n",
    "    # Make the correction\n",
    "    patient_list[pat_vis].data[:, s] = np.round(patient_list[pat_vis].data[:, s] - (mean_corr * db_max_intensity))\n",
    "    # Recompute the pdf\n",
    "    # Find the minimum and maximum for the given serie\n",
    "    patient_list[pat_vis].max_int_serie[s] = np.max(patient_list[pat_vis].data[:, s])\n",
    "    patient_list[pat_vis].min_int_serie[s] = np.min(patient_list[pat_vis].data[:, s])\n",
    "    # Compute the histogram\n",
    "    pdf, bin_edges = np.histogram(patient_list[pat_vis].data[:, s],\n",
    "                                  bins = int(np.round((patient_list[pat_vis].max_int_serie[s] - patient_list[pat_vis].min_int_serie[s]))), \n",
    "                                  density=True)\n",
    "    # Append the histogram\n",
    "    patient_list[pat_vis].pdf_serie[s] = pdf\n",
    "    patient_list[pat_vis].bin_edges_serie[s] = bin_edges"
   ]
  },
  {
   "cell_type": "markdown",
   "metadata": {},
   "source": [
    "#### Recompute the heatmap to see the improvement"
   ]
  },
  {
   "cell_type": "code",
   "execution_count": 52,
   "metadata": {
    "collapsed": false
   },
   "outputs": [
    {
     "data": {
      "text/html": [
       "<iframe id=\"igraph\" scrolling=\"no\" style=\"border:none;\"seamless=\"seamless\" src=\"https://plot.ly/~glemaitre/80.embed\" height=\"525px\" width=\"100%\"></iframe>"
      ],
      "text/plain": [
       "<plotly.tools.PlotlyDisplay object>"
      ]
     },
     "execution_count": 52,
     "metadata": {},
     "output_type": "execute_result"
    }
   ],
   "source": [
    "pat_heatmap = []\n",
    "#for pat_vis in range(len(patient_list)):\n",
    "\n",
    "# Allocate the heatmap\n",
    "### Find the maximum and minimum from all series\n",
    "pt_min_intensity = np.abs(min(patient_list[pat_vis].min_int_serie))\n",
    "pt_max_intensity = np.abs(min(patient_list[pat_vis].min_int_serie)) + max(patient_list[pat_vis].max_int_serie)\n",
    "### Allocate the heat map with the right indexing\n",
    "heatmap_z_raw = np.zeros((len(patient_list[pat_vis].pdf_serie), int(pt_max_intensity)))\n",
    "\n",
    "heatmap_y = []\n",
    "for s in range(len(patient_list[pat_vis].pdf_serie)):\n",
    "    str_pt = 'Serie ' + str(s) + ' '\n",
    "    heatmap_y.append(str_pt)\n",
    "    \n",
    "    arr_sz = int(np.abs(patient_list[pat_vis].min_int_serie[s]) + patient_list[pat_vis].max_int_serie[s])\n",
    "    offset = pt_min_intensity - np.abs(patient_list[pat_vis].min_int_serie[s])\n",
    "    r = range(int(offset), arr_sz+int(offset))\n",
    "        \n",
    "    heatmap_z_raw[s, r] = patient_list[pat_vis].pdf_serie[s]\n",
    "        \n",
    "plot_data = Data([Heatmap(z=heatmap_z_raw, y=heatmap_y, colorscale='Jet')])\n",
    "#layout = Layout(margin=Margin(l=0, r=0, b=0, t=0))\n",
    "#plot_data = Data(pat_heatmap)\n",
    "# Define a figure\n",
    "fig = Figure(data=plot_data)\n",
    "py.iplot(fig, filename='heatmap-dce')"
   ]
  }
 ],
 "metadata": {
  "kernelspec": {
   "display_name": "Python 2",
   "language": "python",
   "name": "python2"
  },
  "language_info": {
   "codemirror_mode": {
    "name": "ipython",
    "version": 2
   },
   "file_extension": ".py",
   "mimetype": "text/x-python",
   "name": "python",
   "nbconvert_exporter": "python",
   "pygments_lexer": "ipython2",
   "version": "2.7.10"
  }
 },
 "nbformat": 4,
 "nbformat_minor": 0
}
